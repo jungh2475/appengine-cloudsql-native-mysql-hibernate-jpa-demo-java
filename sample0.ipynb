{
  "nbformat": 4,
  "nbformat_minor": 0,
  "metadata": {
    "colab": {
      "name": "sample0.ipynb",
      "version": "0.3.2",
      "provenance": [],
      "include_colab_link": true
    },
    "kernelspec": {
      "name": "python3",
      "display_name": "Python 3"
    }
  },
  "cells": [
    {
      "cell_type": "markdown",
      "metadata": {
        "id": "view-in-github",
        "colab_type": "text"
      },
      "source": [
        "<a href=\"https://colab.research.google.com/github/jungh2475/appengine-cloudsql-native-mysql-hibernate-jpa-demo-java/blob/master/sample0.ipynb\" target=\"_parent\"><img src=\"https://colab.research.google.com/assets/colab-badge.svg\" alt=\"Open In Colab\"/></a>"
      ]
    },
    {
      "metadata": {
        "id": "oiGf5kd94nTC",
        "colab_type": "text"
      },
      "cell_type": "markdown",
      "source": [
        "read this article https://medium.com/@siddesh.001/top-5-online-free-notebook-ipynb-and-other-cloud-services-dbf9580d99e3"
      ]
    },
    {
      "metadata": {
        "id": "oCDC4ujC382w",
        "colab_type": "text"
      },
      "cell_type": "markdown",
      "source": [
        "hello see my code below"
      ]
    },
    {
      "metadata": {
        "id": "VfsspZN13ren",
        "colab_type": "code",
        "outputId": "16a9de42-9eff-44d4-d0cd-fc9c8eec317e",
        "colab": {
          "base_uri": "https://localhost:8080/",
          "height": 34
        }
      },
      "cell_type": "code",
      "source": [
        "p=1\n",
        "q=1\n",
        "t=p+q\n",
        "print(t)"
      ],
      "execution_count": 0,
      "outputs": [
        {
          "output_type": "stream",
          "text": [
            "2\n"
          ],
          "name": "stdout"
        }
      ]
    },
    {
      "metadata": {
        "id": "ut7RUDAW47g2",
        "colab_type": "text"
      },
      "cell_type": "markdown",
      "source": [
        "이것을 grid blossom하고 연동 시킬수는 없을까요?\n",
        "\n",
        "---\n",
        "\n",
        "그림도 넣고, 링크도 넣고...예시 코드도 작성하고...."
      ]
    }
  ]
}